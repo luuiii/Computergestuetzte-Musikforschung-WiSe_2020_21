{
 "cells": [
  {
   "cell_type": "markdown",
   "metadata": {},
   "source": [
    "# Imports"
   ]
  },
  {
   "cell_type": "code",
   "execution_count": 1,
   "metadata": {},
   "outputs": [],
   "source": [
    "import numpy as np\n",
    "import matplotlib.pyplot as plt\n",
    "import librosa as lr\n",
    "from IPython.display import Audio"
   ]
  },
  {
   "cell_type": "markdown",
   "metadata": {},
   "source": [
    "# DFT in der Anwendung"
   ]
  },
  {
   "cell_type": "markdown",
   "metadata": {},
   "source": [
    "In diesem Notebook werden wir die DFT zwar nicht selbst implementieren, uns aber deren physikalische Interpretation ansehen."
   ]
  },
  {
   "cell_type": "markdown",
   "metadata": {},
   "source": [
    "<div style=\"background-color:lightyellow;border:solid grey;padding:10px\">\n",
    "\n",
    "**Aufgabe 1:** Konstruiert zunächst ein fünf Sekunden langes Signal mit zwei Sinus-Tönen mit den Frequenzen 2 Hz und 5 Hz durch Additive Synthese (nicht vergessen: die einzelnen Sinustöne mit 0.5 multiplizieren, damit das Signal in der Range (-1 - 1) bleibt) mit der Sampling Rate 1000 Hz und speichert es unter der Variable `x`.\n",
    "\n",
    "</div>"
   ]
  },
  {
   "cell_type": "code",
   "execution_count": null,
   "metadata": {},
   "outputs": [],
   "source": [
    "...\n",
    "\n",
    "plt.figure(figsize=(12, 4))\n",
    "plt.plot(t, x)\n",
    "plt.show()"
   ]
  },
  {
   "cell_type": "markdown",
   "metadata": {},
   "source": [
    "<div style=\"background-color:lightyellow;border:solid grey;padding:10px\">\n",
    "\n",
    "**Aufgabe 2:** Führt mit der Funktion `np.fft.fft` (siehe [Dokumentation](https://numpy.org/doc/stable/reference/generated/numpy.fft.fft.html)) die DFT durch und speichert sie unter der Variable `dft`.\n",
    "\n",
    "</div>"
   ]
  },
  {
   "cell_type": "code",
   "execution_count": null,
   "metadata": {},
   "outputs": [],
   "source": [
    "...\n",
    "\n",
    "plt.figure(figsize=(12, 4))\n",
    "plt.plot(np.abs(dft))\n",
    "plt.show"
   ]
  },
  {
   "cell_type": "markdown",
   "metadata": {},
   "source": [
    "Wir können beobachten, dass der geplottete Graph symmetrisch zu sein scheint.\n",
    "\n",
    "Gleichzeitig sehen wir auf der x-Achse die Frequenz-Indizes ($k$) von 0 - 5000. Diese sind nicht mit der Frequenz in Hertz zu verwechseln!!\n",
    "\n",
    "Wir möchten nun auf der x-Achse die entprechenden (physikalischen) Frequenzen plotten. Hierfür verwenden wir die Formel:\n",
    "\n",
    "$f = \\dfrac{k \\cdot sr}{N}$"
   ]
  },
  {
   "cell_type": "markdown",
   "metadata": {},
   "source": [
    "<div style=\"background-color:lightyellow;border:solid grey;padding:10px\">\n",
    "\n",
    "**Aufgabe 3:** Erstellt einen Array `f` mit den zu den jeweiligen $k$ gehörenden Frequenzen in Hertz mit der oben stehenden Formel. Limitiert die Anzeige des Plots auf die Frequenzen von 0 bis 7 Hz mit der Funktion `plt.xlim`.\n",
    "\n",
    "</div>"
   ]
  },
  {
   "cell_type": "code",
   "execution_count": null,
   "metadata": {},
   "outputs": [],
   "source": [
    "...\n",
    "\n",
    "plt.figure(figsize=(12, 4))\n",
    "plt.plot(f, np.abs(dft))\n",
    "plt.xlim(...)\n",
    "plt.show()"
   ]
  },
  {
   "cell_type": "markdown",
   "metadata": {},
   "source": [
    "Nun möchten wir noch ein zweites (ähnliches) Signal analysieren. Anstatt zwei gleichzeitiger Töne schreiben wir stattdessen zwei aufeinanderfolgende Töne mit den Frequenzen 2 und 5 Hz in unser Signal `x`:"
   ]
  },
  {
   "cell_type": "code",
   "execution_count": null,
   "metadata": {},
   "outputs": [],
   "source": [
    "sr = 1000\n",
    "length = 5\n",
    "t = np.linspace(0, length, int(sr * length))\n",
    "freq1, freq2 = 2, 5\n",
    "x = np.concatenate((np.sin(t[:int(length * sr / 2)] * 2 * np.pi * freq1), \n",
    "                    np.sin(t[:int(length * sr / 2)] * 2 * np.pi * freq2)))\n",
    "\n",
    "plt.figure(figsize=(12, 4))\n",
    "plt.plot(t, x)\n",
    "plt.show()"
   ]
  },
  {
   "cell_type": "markdown",
   "metadata": {},
   "source": [
    "<div style=\"background-color:lightyellow;border:solid grey;padding:10px\">\n",
    "\n",
    "**Aufgabe 4:** Führt nun mit diesem Signal erneut die DFT durch und plottet sie zusammen mit den physikalischen Frequenzen und limitiert den Plot auf 0 bis 7 Hz (wie in den Aufgaben 1-3).\n",
    "\n",
    "</div>"
   ]
  },
  {
   "cell_type": "code",
   "execution_count": null,
   "metadata": {},
   "outputs": [],
   "source": [
    "...\n",
    "\n",
    "plt.figure(figsize=(12, 4))\n",
    "plt.plot(f, np.abs(dft))\n",
    "plt.xlim(...)\n",
    "plt.show()"
   ]
  }
 ],
 "metadata": {
  "kernelspec": {
   "display_name": "Python 3",
   "language": "python",
   "name": "python3"
  },
  "language_info": {
   "codemirror_mode": {
    "name": "ipython",
    "version": 3
   },
   "file_extension": ".py",
   "mimetype": "text/x-python",
   "name": "python",
   "nbconvert_exporter": "python",
   "pygments_lexer": "ipython3",
   "version": "3.7.8"
  },
  "toc": {
   "base_numbering": 1,
   "nav_menu": {},
   "number_sections": true,
   "sideBar": true,
   "skip_h1_title": false,
   "title_cell": "Table of Contents",
   "title_sidebar": "Contents",
   "toc_cell": false,
   "toc_position": {},
   "toc_section_display": true,
   "toc_window_display": false
  },
  "varInspector": {
   "cols": {
    "lenName": 16,
    "lenType": 16,
    "lenVar": 40
   },
   "kernels_config": {
    "python": {
     "delete_cmd_postfix": "",
     "delete_cmd_prefix": "del ",
     "library": "var_list.py",
     "varRefreshCmd": "print(var_dic_list())"
    },
    "r": {
     "delete_cmd_postfix": ") ",
     "delete_cmd_prefix": "rm(",
     "library": "var_list.r",
     "varRefreshCmd": "cat(var_dic_list()) "
    }
   },
   "types_to_exclude": [
    "module",
    "function",
    "builtin_function_or_method",
    "instance",
    "_Feature"
   ],
   "window_display": false
  }
 },
 "nbformat": 4,
 "nbformat_minor": 4
}
