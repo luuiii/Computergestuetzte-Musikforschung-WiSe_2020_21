{
 "cells": [
  {
   "cell_type": "markdown",
   "metadata": {},
   "source": [
    "# \"Melodie\" generieren\n",
    "\n",
    "Generiert eine \"Melodie\":\n",
    "\n",
    "- Sie soll aus mindestens drei (Sinus-)Tönen bestehen.\n",
    "- Die drei (oder mehr) Töne sollen hintereinander kommen (also einstimmig, nicht mehrstimmig).\n",
    "- Die Frequenzen dieser Töne sollen unserem temperierten Stimmungssystem entsprechen.\n",
    "\n",
    "Tipps:\n",
    "\n",
    "- Wir haben in der gemeinsamen Sitzung gesehen, wie man Sinustöne in einen Array schreibt ( / generiert).\n",
    "- np.append könnte nützlich sein.\n",
    "- Siehe die Funktionen um eine Midi-Tonhöhe in Frequenz umzurechnen"
   ]
  },
  {
   "cell_type": "code",
   "execution_count": null,
   "metadata": {},
   "outputs": [],
   "source": [
    "import matplotlib.pyplot as plt\n",
    "import IPython.display as ipd\n",
    "import numpy as np\n",
    "\n",
    "sample_rate = ...\n",
    "...\n",
    "...\n",
    "\n",
    "ipd.Audio(melody, rate=sample_rate)"
   ]
  },
  {
   "cell_type": "markdown",
   "metadata": {},
   "source": [
    "# Frequenz-Modulation\n",
    "\n",
    "Generiert einen Sinuston mit modulierter Frequenz:\n",
    "\n",
    "- sog. Chirp (Glissando aufwärts oder abwärts), oder\n",
    "- Frequenzmodulation mit einem Sinus als Modulator\n",
    "\n",
    "Tipp:\n",
    "\n",
    "- Bedenkt, wie numpy-Arrays miteinander verrechnet werden (element-weise)"
   ]
  },
  {
   "cell_type": "code",
   "execution_count": null,
   "metadata": {},
   "outputs": [],
   "source": [
    "...\n",
    "...\n",
    "\n",
    "ipd.Audio(modulated_sine, rate=sample_rate)"
   ]
  }
 ],
 "metadata": {
  "kernelspec": {
   "display_name": "Python 3",
   "language": "python",
   "name": "python3"
  },
  "language_info": {
   "codemirror_mode": {
    "name": "ipython",
    "version": 3
   },
   "file_extension": ".py",
   "mimetype": "text/x-python",
   "name": "python",
   "nbconvert_exporter": "python",
   "pygments_lexer": "ipython3",
   "version": "3.9.0"
  },
  "toc": {
   "base_numbering": 1,
   "nav_menu": {},
   "number_sections": true,
   "sideBar": true,
   "skip_h1_title": false,
   "title_cell": "Table of Contents",
   "title_sidebar": "Contents",
   "toc_cell": false,
   "toc_position": {},
   "toc_section_display": true,
   "toc_window_display": true
  },
  "varInspector": {
   "cols": {
    "lenName": 16,
    "lenType": 16,
    "lenVar": 40
   },
   "kernels_config": {
    "python": {
     "delete_cmd_postfix": "",
     "delete_cmd_prefix": "del ",
     "library": "var_list.py",
     "varRefreshCmd": "print(var_dic_list())"
    },
    "r": {
     "delete_cmd_postfix": ") ",
     "delete_cmd_prefix": "rm(",
     "library": "var_list.r",
     "varRefreshCmd": "cat(var_dic_list()) "
    }
   },
   "types_to_exclude": [
    "module",
    "function",
    "builtin_function_or_method",
    "instance",
    "_Feature"
   ],
   "window_display": false
  }
 },
 "nbformat": 4,
 "nbformat_minor": 2
}
