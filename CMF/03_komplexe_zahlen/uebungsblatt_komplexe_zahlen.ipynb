{
 "cells": [
  {
   "cell_type": "markdown",
   "metadata": {
    "id": "znqRsyQtFIzE"
   },
   "source": [
    "# Imports"
   ]
  },
  {
   "cell_type": "code",
   "execution_count": 4,
   "metadata": {
    "id": "eNhRWRmw3vNZ"
   },
   "outputs": [],
   "source": [
    "import matplotlib.pyplot as plt\n",
    "import numpy as np"
   ]
  },
  {
   "cell_type": "markdown",
   "metadata": {
    "id": "1kP0O3DMFMNG"
   },
   "source": [
    "# Komplexe Zahlen"
   ]
  },
  {
   "cell_type": "markdown",
   "metadata": {},
   "source": [
    "## Real- und Imaginärteil"
   ]
  },
  {
   "cell_type": "markdown",
   "metadata": {
    "id": "WVD_J8nbv_0g"
   },
   "source": [
    "<div style=\"background-color:lightyellow;border:solid grey;padding:10px\">\n",
    "\n",
    "**Aufgabe 1:** Findet den Realteil $\\mathrm{Re}(z)$ und Imaginärteil $\\mathrm{Im}(z)$ der folgenden komplexen Zahlen:$\n",
    "\n",
    "| $z = $                  | $\\mathrm{Re}(z) = $ | $\\mathrm{Im}(z) = $ |\n",
    "|-------------------------|---------------------|---------------------|\n",
    "| $3 + 3i$                |                     |                     |\n",
    "| $-3.8 - 27i$            |                     |                     |\n",
    "| $\\sqrt{-4}$             |                     |                     |\n",
    "| $7 + \\sqrt{-9}$         |                     |                     |\n",
    "| $4$                     |                     |                     |\n",
    "| $\\sqrt{-16} + \\sqrt{4}$ |                     |                     |\n",
    "| $70i + i^2$             |                     |                     |\n",
    "| $-i$                    |                     |                     |\n",
    "\n",
    "</div>"
   ]
  },
  {
   "cell_type": "markdown",
   "metadata": {},
   "source": [
    "## Addition"
   ]
  },
  {
   "cell_type": "markdown",
   "metadata": {
    "id": "lTv_sta51QdP"
   },
   "source": [
    "<div style=\"background-color:lightyellow;border:solid grey;padding:10px\">\n",
    "\n",
    "**Aufgabe 2:** Addiert folgende komplexe Zahlen:$\n",
    "\n",
    "| $z_1 = $                       | $z_2 = $                       | $z_1 + z_2 = $ |\n",
    "|--------------------------------|--------------------------------|----------------|\n",
    "| $4 + i$                        | $-2 + 2i$                      |                |\n",
    "| $-7i$                          | $3 + 7i$                       |                |\n",
    "| $\\dfrac{1}{2} + \\dfrac{1}{3}i$ | $\\dfrac{1}{4} + \\dfrac{1}{2}i$ |                |\n",
    "\n",
    "</div>"
   ]
  },
  {
   "cell_type": "markdown",
   "metadata": {},
   "source": [
    "## Multiplikation"
   ]
  },
  {
   "cell_type": "code",
   "execution_count": 5,
   "metadata": {
    "colab": {
     "base_uri": "https://localhost:8080/",
     "height": 599
    },
    "id": "PhYqUxZKv_O_",
    "outputId": "35d9a774-bc39-4beb-fb84-56d720076996"
   },
   "outputs": [
    {
     "data": {
      "image/png": "[encoded data removed]",
      "text/plain": [
       "<Figure size 720x720 with 1 Axes>"
      ]
     },
     "metadata": {
      "needs_background": "light"
     },
     "output_type": "display_data"
    }
   ],
   "source": [
    "# code fuer darstellung\n",
    "fig, ax = plt.subplots(figsize=(10, 10))\n",
    "\n",
    "# x,y coordinates and colors of points\n",
    "x = [2, 2]\n",
    "y = [1, -1]\n",
    "txts = np.array(['2 + i', '2 - i'])\n",
    "color = ['r', 'b',]\n",
    "\n",
    "# Select length of axes and the space between tick labels\n",
    "plot_lim = 5\n",
    "xmin, xmax, ymin, ymax = -plot_lim, plot_lim, -plot_lim, plot_lim\n",
    "ticks_frequency = 1\n",
    "\n",
    "# Plot points\n",
    "ax.scatter(x, y, c=color)\n",
    "\n",
    "# label points\n",
    "offset = 0.2\n",
    "for i, txt in enumerate(txts):\n",
    "    ax.text(x[i] + offset, y[i] + offset, txt, color=color[i], fontsize=18)\n",
    "\n",
    "# plot vectors\n",
    "ax.quiver(np.array(x) * 0, np.array(y) * 0, x, y, color=color, scale=(plot_lim+1)*2)\n",
    "\n",
    "# Set identical scales for both axes\n",
    "ax.set(xlim=(xmin-1, xmax+1), ylim=(ymin-1, ymax+1), aspect='equal')\n",
    "\n",
    "# Set bottom and left spines as x and y axes of coordinate system\n",
    "ax.spines['bottom'].set_position('zero')\n",
    "ax.spines['left'].set_position('zero')\n",
    "\n",
    "# Remove top and right spines\n",
    "ax.spines['top'].set_visible(False)\n",
    "ax.spines['right'].set_visible(False)\n",
    "\n",
    "# Create 'x' and 'y' labels placed at the end of the axes\n",
    "ax.set_xlabel('Re', size=14, labelpad=15)\n",
    "ax.set_ylabel('Im', size=14, labelpad=15, rotation=0)\n",
    "ax.xaxis.set_label_coords(1.03, 0.512)\n",
    "ax.yaxis.set_label_coords(0.5, 1.02)\n",
    "\n",
    "# Create custom tick labels\n",
    "x_ticks = np.arange(xmin, xmax+1, ticks_frequency)\n",
    "x_ticks_major = x_ticks[x_ticks != 0]\n",
    "y_ticks = np.arange(ymin, ymax+1, ticks_frequency)\n",
    "y_ticks_major = y_ticks[y_ticks != 0]\n",
    "ax.set_xticks(x_ticks_major)\n",
    "ax.set_yticks(y_ticks_major)\n",
    "ax.set_xticks(np.arange(xmin,xmax+1), minor=True)\n",
    "ax.set_yticks(np.arange(ymin,ymax+1), minor=True)\n",
    "\n",
    "# Draw grid lines\n",
    "ax.grid(which='major', color='grey', linewidth=1, linestyle='-', alpha=0.2)\n",
    "ax.grid(which='minor', color='grey', linewidth=1, linestyle='-', alpha=0.2)\n",
    "\n",
    "# Draw arrows\n",
    "ax.plot((1), (0), linestyle=\"\", marker=\">\", markersize=4, color=\"k\",\n",
    "        transform=ax.get_yaxis_transform(), clip_on=False)\n",
    "ax.plot((0), (1), linestyle=\"\", marker=\"^\", markersize=4, color=\"k\",\n",
    "        transform=ax.get_xaxis_transform(), clip_on=False)\n",
    "\n",
    "plt.show()"
   ]
  },
  {
   "cell_type": "markdown",
   "metadata": {
    "id": "sVGsnhc7_dA5"
   },
   "source": [
    "<div style=\"background-color:lightyellow;border:solid grey;padding:10px\">\n",
    "\n",
    "**Aufgabe 3:** Ohne es algebraisch auszurechnen – was ist das Ergebnis des folgenden Produkts: $(2 + i) \\cdot (2 - i)$ (siehe Abbildung)?\n",
    "\n",
    "</div>"
   ]
  },
  {
   "cell_type": "markdown",
   "metadata": {},
   "source": [
    "## Wurzel"
   ]
  },
  {
   "cell_type": "code",
   "execution_count": 6,
   "metadata": {
    "colab": {
     "base_uri": "https://localhost:8080/",
     "height": 599
    },
    "id": "dxG4dGbo58Y1",
    "outputId": "42c65a99-55bd-4fd3-afcc-fb7e232660e2"
   },
   "outputs": [
    {
     "data": {
      "image/png": "[encoded data removed]",
      "text/plain": [
       "<Figure size 720x720 with 1 Axes>"
      ]
     },
     "metadata": {
      "needs_background": "light"
     },
     "output_type": "display_data"
    }
   ],
   "source": [
    "# code fuer darstellung\n",
    "fig, ax = plt.subplots(figsize=(10, 10))\n",
    "\n",
    "# x,y coordinates and colors of points\n",
    "x = [0]\n",
    "y = [1]\n",
    "txts = np.array(['i'])\n",
    "color = ['r']\n",
    "\n",
    "circle = np.exp(np.linspace(0, 2 * np.pi * 1j, 100))\n",
    "\n",
    "# Select length of axes and the space between tick labels\n",
    "plot_lim = 2\n",
    "xmin, xmax, ymin, ymax = -plot_lim, plot_lim, -plot_lim, plot_lim\n",
    "ticks_frequency = 1\n",
    "\n",
    "# Plot points\n",
    "ax.scatter(x, y, c=color)\n",
    "\n",
    "# label points\n",
    "offset = 0.2\n",
    "for i, txt in enumerate(txts):\n",
    "    ax.text(x[i] + offset, y[i] + offset, txt, color=color[i], fontsize=18)\n",
    "\n",
    "# plot vectors\n",
    "ax.quiver(np.array(x) * 0, np.array(y) * 0, x, y,\n",
    "          color=color, scale=(plot_lim+1)*2)\n",
    "\n",
    "# Set identical scales for both axes\n",
    "ax.set(xlim=(xmin-1, xmax+1), ylim=(ymin-1, ymax+1), aspect='equal')\n",
    "\n",
    "# Set bottom and left spines as x and y axes of coordinate system\n",
    "ax.spines['bottom'].set_position('zero')\n",
    "ax.spines['left'].set_position('zero')\n",
    "\n",
    "# Remove top and right spines\n",
    "ax.spines['top'].set_visible(False)\n",
    "ax.spines['right'].set_visible(False)\n",
    "\n",
    "# Create 'x' and 'y' labels placed at the end of the axes\n",
    "ax.set_xlabel('Re', size=14, labelpad=15)\n",
    "ax.set_ylabel('Im', size=14, labelpad=15, rotation=0)\n",
    "ax.xaxis.set_label_coords(1.03, 0.512)\n",
    "ax.yaxis.set_label_coords(0.5, 1.02)\n",
    "\n",
    "# Create custom tick labels\n",
    "x_ticks = np.arange(xmin, xmax+1, ticks_frequency)\n",
    "x_ticks_major = x_ticks[x_ticks != 0]\n",
    "y_ticks = np.arange(ymin, ymax+1, ticks_frequency)\n",
    "y_ticks_major = y_ticks[y_ticks != 0]\n",
    "ax.set_xticks(x_ticks_major)\n",
    "ax.set_yticks(y_ticks_major)\n",
    "ax.set_xticks(np.arange(xmin,xmax+1), minor=True)\n",
    "ax.set_yticks(np.arange(ymin,ymax+1), minor=True)\n",
    "\n",
    "# Draw grid lines\n",
    "ax.grid(which='major', color='grey', linewidth=1, linestyle='-', alpha=0.2)\n",
    "ax.grid(which='minor', color='grey', linewidth=1, linestyle='-', alpha=0.2)\n",
    "\n",
    "# Draw arrows\n",
    "ax.plot((1), (0), linestyle=\"\", marker=\">\", markersize=4, color=\"k\",\n",
    "        transform=ax.get_yaxis_transform(), clip_on=False)\n",
    "ax.plot((0), (1), linestyle=\"\", marker=\"^\", markersize=4, color=\"k\",\n",
    "        transform=ax.get_xaxis_transform(), clip_on=False)\n",
    "\n",
    "\n",
    "ax.plot(circle.real, circle.imag)\n",
    "\n",
    "plt.show()"
   ]
  },
  {
   "cell_type": "markdown",
   "metadata": {
    "id": "jTypMX0qDyMu"
   },
   "source": [
    "<div style=\"background-color:lightyellow;border:solid grey;padding:10px\">\n",
    "\n",
    "**Aufgabe 4:** Erinnert euch daran, dass Multiplikation \"geometrisch\" eine Addition der Winkel bedeutet, und dass das Quadrat (also die Multiplikation einer Zahl mit sich selbst) den doppelten Winkel ergibt. Wo müsste (\"geometrisch\" gesehen) die Zahl $\\sqrt{i}$ liegen?\n",
    "\n",
    "</div>"
   ]
  }
 ],
 "metadata": {
  "anaconda-cloud": {},
  "colab": {
   "name": "03.08-Aggregation-and-Grouping.ipynb",
   "provenance": []
  },
  "kernelspec": {
   "display_name": "Python 3",
   "language": "python",
   "name": "python3"
  },
  "language_info": {
   "codemirror_mode": {
    "name": "ipython",
    "version": 3
   },
   "file_extension": ".py",
   "mimetype": "text/x-python",
   "name": "python",
   "nbconvert_exporter": "python",
   "pygments_lexer": "ipython3",
   "version": "3.7.8"
  },
  "toc": {
   "base_numbering": 1,
   "nav_menu": {},
   "number_sections": true,
   "sideBar": true,
   "skip_h1_title": false,
   "title_cell": "Table of Contents",
   "title_sidebar": "Contents",
   "toc_cell": false,
   "toc_position": {},
   "toc_section_display": true,
   "toc_window_display": true
  },
  "varInspector": {
   "cols": {
    "lenName": 16,
    "lenType": 16,
    "lenVar": 40
   },
   "kernels_config": {
    "python": {
     "delete_cmd_postfix": "",
     "delete_cmd_prefix": "del ",
     "library": "var_list.py",
     "varRefreshCmd": "print(var_dic_list())"
    },
    "r": {
     "delete_cmd_postfix": ") ",
     "delete_cmd_prefix": "rm(",
     "library": "var_list.r",
     "varRefreshCmd": "cat(var_dic_list()) "
    }
   },
   "types_to_exclude": [
    "module",
    "function",
    "builtin_function_or_method",
    "instance",
    "_Feature"
   ],
   "window_display": false
  }
 },
 "nbformat": 4,
 "nbformat_minor": 1
}
